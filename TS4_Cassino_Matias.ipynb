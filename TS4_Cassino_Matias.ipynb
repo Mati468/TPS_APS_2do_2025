{
 "cells": [
  {
   "cell_type": "markdown",
   "id": "89b5a440-87f5-4faf-ad4d-71318e62081d",
   "metadata": {},
   "source": [
    "<img src=\"IMG/logo_UNSAM.jpg\" align=\"right\" width=\"150\" /> \n",
    "\n",
    "#### Análisis y Procesamiento de Señales - Segundo Cuatrimestre 2025\n",
    "\n",
    "# TS4: Primeras nociones de estimación espectral \n",
    "#### Matías Cassino y Tomás Altimare"
   ]
  },
  {
   "cell_type": "markdown",
   "id": "11a66c61-042e-42a3-9071-6a2522ac2671",
   "metadata": {},
   "source": [
    "# Consignas\n",
    "\n",
    "Comenzaremos con la generación de la siguiente señal:\n",
    "\n",
    "- $ x(k)=a_0⋅sen(Ω_1⋅n)+na(n) $ siendo $ a_0=2 $, $ Ω_1=Ω_0+fr⋅2π/N $ y $ Ω_0=π2 $\n",
    "\n",
    "siendo la variable aleatoria definida por la siguiente distribución de probabilidad\n",
    "\n",
    "- $ f_r∼U(−2,2)$ y $na∼N(0,σ^2) $\n",
    "\n",
    "Diseñe los siguientes estimadores,  de amplitud a1:\n",
    "\n",
    "- $ \\hat{a}^i_1=|X^i_w(Ω_0)|=|F{x(n)⋅w_i(n)}| $\n",
    "\n",
    " y de frecuencia Ω1:  \n",
    " \n",
    "- $ \\hat{Ω}^i_1=arg max_f{|X^i_w(Ω)|} $\n",
    "\n",
    "para cada una de las ventanas: rectangular (sin ventana), flattop, blackmanharris y otra que elija de scipy.signal.windows\n",
    "\n",
    "Y siguiendo las siguientes consignas para su experimentación:\n",
    "\n",
    "Considere 200 realizaciones (muestras tomadas de fr) de 1000 muestras para cada experimento.\n",
    "Parametrice para SNR's de 3 y 10 db (Ayuda: calibre a1 para que la potencia de la senoidal sea 1 W).\n",
    "\n",
    "Se pide:\n",
    "\n",
    "1) Realizar una tabla por cada SNR, que describa el sesgo y la varianza de cada estimador para cada ventana analizada. \n",
    "Recuerde incluir las ventanas rectangular (sin ventana), flattop y blackmanharris y otras que considere.\n",
    "\n",
    "Ayuda: Puede calcular experimentalmente el sesgo y la varianza de un estimador:\n",
    "\n",
    "$\\hat{a}_0=|X^i_w(Ω_0)|$ siendo $s_a=E({\\hat{a}_0})−a_0$ y $v_a=var({\\hat{a}_0})=E({(\\hat{a}_0−E({\\hat{a}_0}))^2})$\n",
    "\n",
    "y pueden aproximarse cuando consideramos los valores esperados como las medias muestrales\n",
    "\n",
    "$E({\\hat{a}_0})=\\hat{μ}_a=(1/M)\\sum_{j=0}^{M-1}\\hat{a_j}$ -> $s_a=\\hat{μ}_a−a_0$ y $v_a=(1/M)\\sum_{j=0}^{M−1}(\\hat{a}_j−\\hat{μ}_a)^2$\n",
    "\n",
    "Bonus:\n",
    "\n",
    " 2) Analice el efecto del zero-padding para el estimador Ω^1\n",
    " \n",
    " 3) Proponga estimadores alternativos para frecuencia y amplitud de la senoidal y repita el experimento.\n",
    "\n",
    " 4) Visualizar los 3 histogramas juntos"
   ]
  },
  {
   "cell_type": "markdown",
   "id": "83e5de7a-4b98-474b-9a2a-60425bf20060",
   "metadata": {},
   "source": [
    "# Introducción\n"
   ]
  },
  {
   "cell_type": "markdown",
   "id": "521c868c-a683-4340-bae1-49efb0ff2d51",
   "metadata": {},
   "source": [
    "# Desarrollo experimental"
   ]
  },
  {
   "cell_type": "code",
   "execution_count": 1,
   "id": "61f1004b-425d-443b-8793-403712c2b0d2",
   "metadata": {},
   "outputs": [],
   "source": [
    "#%% Modulos\n",
    "import numpy as np\n",
    "import matplotlib as mpl\n",
    "import matplotlib.pyplot as plt\n",
    "import pdsmodulos as pds\n",
    "import scipy.signal as sig\n",
    "import scipy.stats as st\n",
    "\n",
    "#%% Funciones\n",
    "plt.close(\"all\")\n",
    "\n",
    "def mi_funcion_sen_estocastica_matricial(vmax, dc, ff, fr_matriz, realizaciones, ph, N, fs, plot=True):\n",
    "    \n",
    "    # Datos generales de la simulación\n",
    "    ts = 1/fs # tiempo de muestreo\n",
    "    tt = np.linspace(0, (N-1)*ts, N).reshape(-1,1) # grilla de sampleo temporal discreta (n) pasa de vector en 1xN a matriz NX1 (-1 toma el tamaño del último elemento)\n",
    "    tt_matriz = np.tile(tt, (1, realizaciones))   #1000x200  pq tile replica array en columnas= repeticiones y filas =1 = no repitas\n",
    "    omega_0=ff\n",
    "    omega_1=(fs/N)*fr_matriz + omega_0\n",
    "    arg = 2*np.pi*omega_1*tt_matriz + ph # argumento\n",
    "    xx_matriz = (vmax*(np.sin(arg)) + dc) # señal\n",
    "    var_x=np.var(xx_matriz)\n",
    "    \n",
    "    print(f'La varianza de la señal sin normalizar es: {var_x}\\n')    \n",
    "    if plot:\n",
    "        \n",
    "        #%% Presentación gráfica de los resultados\n",
    "        plt.figure()\n",
    "        plt.plot(tt_matriz, xx_matriz, label=f\"f = {ff} Hz\\nN = {N}\\nTs = {ts} s\\nPotencia = {var_x:.3} W\")\n",
    "        plt.title('Señal: senoidal')\n",
    "        plt.xlabel('tiempo [s]')\n",
    "        plt.ylabel('Amplitud [V]')\n",
    "        plt.grid()\n",
    "        plt.xlim([tt_matriz.min() - 0.1*(tt_matriz.max()-tt_matriz.min()), tt_matriz.max() + 0.1*(tt_matriz.max()-tt_matriz.min())])\n",
    "        plt.ylim([xx_matriz.min() - 0.1*(xx_matriz.max()-xx_matriz.min()), xx_matriz.max() + 0.1*(xx_matriz.max()-xx_matriz.min())])\n",
    "        plt.legend()\n",
    "        plt.show() \n",
    "        \n",
    "    return tt_matriz,xx_matriz\n",
    "\n",
    "\n",
    "def mi_funcion_noise_matricial(N,SNR,media_n,realizaciones):\n",
    "    var_n=10**(-SNR/10)\n",
    "    med_n=media_n\n",
    "    # n=np.random.normal(med_n, np.sqrt(var_n),N).reshape(-1,1)\n",
    "    # n_matriz=np.tile(n, (1, realizaciones))\n",
    "    n = np.random.normal(med_n, np.sqrt(var_n), (N, realizaciones))  # ruido independiente por realización\n",
    "    n_matriz = n.reshape(N, realizaciones) # redundante\n",
    "    var_n=np.var(n)\n",
    "    print(f'La varianza del ruido con SRN={SNR} es: {var_n}\\n')\n",
    "    \n",
    "    return n_matriz,var_n\n",
    "\n",
    "\n",
    "def frecuencia_random_matricial(a,b,realizaciones):\n",
    "    fr=np.random.uniform(a,b,realizaciones).reshape(1,-1) # 1x200\n",
    "    fr_matriz=np.tile(fr, (N, 1)) #1000x200\n",
    "    return fr_matriz\n",
    "\n",
    "def normalizacion(x):\n",
    "    media_x=np.mean(x) #media\n",
    "    desvio_x=np.std(x) #desvio\n",
    "    xx_norm=(x-media_x)/desvio_x #señal normalizada\n",
    "    varianza_x=np.var(xx_norm) #varianza\n",
    "    print(f'La varianza de la señal normalizada es: {varianza_x}\\n')\n",
    "    \n",
    "    return xx_norm,varianza_x\n",
    "\n",
    "def mod_y_fase_fft(fft_x):\n",
    "    fft_x_abs=np.abs(fft_x)\n",
    "    fft_x_abs_ph=np.max(np.angle(fft_x_abs))\n",
    "    return fft_x_abs, fft_x_abs_ph\n",
    "\n",
    "def estimadores(fft_abs_x,df,ff,N):\n",
    "    k0= int(np.round(ff*(1/df))) # índice redondeado a entero de la fft que corresponde a ff\n",
    "    a_estimadas=fft_abs_x[k0,:] # Vector de amplitudes en el índice de ff para c/realización\n",
    "    index=np.argmax(fft_abs_x[:N//2],axis=0) # Vector de índices donde fft tiene máximo argumento para c/realización\n",
    "    f_estimadas=index*df # Conversión de índice a frecuencia\n",
    "    return f_estimadas,a_estimadas\n",
    "\n",
    "def estadisticas(x_real,estimacion):\n",
    "    media=np.mean(estimacion)\n",
    "    sesgo=media-x_real\n",
    "    varianza=np.var(estimacion)\n",
    "    return sesgo,varianza\n",
    "\n",
    "def estadisticas_robustas(x_real,estimacion):\n",
    "    mediana=np.median(estimacion)\n",
    "    sesgo=mediana-x_real\n",
    "    mad=st.median_abs_deviation(estimacion, scale='normal') # Normal escala por sqrt(pi/2) para obtener un valor proporcional al desvío estándar para una distribución Gaussiana\n",
    "    var_robusta=mad**2\n",
    "    return sesgo,var_robusta\n",
    "\n",
    "#%% Parámetros\n",
    "N=1000 # cantidad de muestras\n",
    "M=10*N # cantidad de muestras para zero padding\n",
    "fs=1000 # frecuencia de muestreo\n",
    "df=fs/N # resolución espectral\n",
    "df_M=fs/M # resolución espectral para zero padding\n",
    "k=np.arange(N)*df\n",
    "k_M=np.arange(M)*df\n",
    "ts = 1/fs # tiempo de muestreo\n",
    "realizaciones=200 # parametro de fr\n",
    "bins=15 # cantidad de bins\n",
    "a_real=2 # Amplitud real\n",
    "f_real=fs/4  # Frecuencia real"
   ]
  },
  {
   "cell_type": "markdown",
   "id": "1fd7720d-76de-437f-bee8-04cb3718763e",
   "metadata": {},
   "source": [
    "# Análisis de resultados"
   ]
  },
  {
   "cell_type": "markdown",
   "id": "f334d544-0c6d-4e8f-9d95-b8a9a6178e26",
   "metadata": {},
   "source": [
    "1) "
   ]
  },
  {
   "cell_type": "code",
   "execution_count": 2,
   "id": "b3fe6ad4-c28a-48c2-8c7d-995a20471100",
   "metadata": {},
   "outputs": [
    {
     "name": "stdout",
     "output_type": "stream",
     "text": [
      "La varianza del ruido con SRN=3 es: 0.5022415660854377\n",
      "\n",
      "La varianza del ruido con SRN=10 es: 0.09988179316882465\n",
      "\n",
      "La varianza de la señal sin normalizar es: 1.998983222291587\n",
      "\n",
      "La varianza de la señal normalizada es: 0.9999999999999999\n",
      "\n"
     ]
    }
   ],
   "source": [
    "#%% Invocación de las funciones del punto 1\n",
    "n_m_1,var_n_m_1=mi_funcion_noise_matricial(N=N,SNR=3,media_n=0,realizaciones=realizaciones)\n",
    "n_m_2,var_n_m_2=mi_funcion_noise_matricial(N=N,SNR=10,media_n=0,realizaciones=realizaciones)\n",
    "\n",
    "fr_m=frecuencia_random_matricial(a=-2,b=2,realizaciones=realizaciones)\n",
    "\n",
    "t_m_1,x_m_1 = mi_funcion_sen_estocastica_matricial(vmax = 2, dc = 0, ff = fs/4, fr_matriz=fr_m, realizaciones=realizaciones, ph=0, N=N,fs=fs,plot=None)\n",
    "\n",
    "# Normalización de señal\n",
    "x_m_norm_1,var_m_norm_1=normalizacion(x_m_1)\n",
    "\n",
    "# Señal normalizada con ruido\n",
    "xn_m_1=x_m_norm_1+n_m_1\n",
    "xn_m_2=x_m_norm_1+n_m_2\n",
    "\n",
    "# Ventanas\n",
    "w_bh=sig.windows.blackmanharris(N).reshape(-1,1)\n",
    "w_bh_m=np.tile(w_bh, (1, realizaciones))\n",
    "\n",
    "w_hamming=sig.windows.hamming(N).reshape(-1,1)\n",
    "w_hamming_m=np.tile(w_hamming, (1, realizaciones))\n",
    "\n",
    "w_flattop=sig.windows.flattop(N).reshape(-1,1)\n",
    "w_flattop_m=np.tile(w_flattop, (1, realizaciones))\n",
    "\n",
    "w_rectangular=sig.windows.get_window(\"boxcar\",N).reshape(-1,1)\n",
    "w_rectangular_m=np.tile(w_rectangular, (1, realizaciones))\n",
    "\n",
    "# Señal normalizada con ruido ventaneada\n",
    "xn_m_1_w_bh=xn_m_1*w_bh_m\n",
    "xn_m_1_w_hamming=xn_m_1*w_hamming_m\n",
    "xn_m_1_w_flattop=xn_m_1*w_flattop_m\n",
    "xn_m_1_w_rectangular=xn_m_1*w_rectangular_m\n",
    "\n",
    "xn_m_2_w_bh=xn_m_2*w_bh_m\n",
    "xn_m_2_w_hamming=xn_m_2*w_hamming_m\n",
    "xn_m_2_w_flattop=xn_m_2*w_flattop_m\n",
    "xn_m_2_w_rectangular=xn_m_2*w_rectangular_m\n",
    "\n",
    "# FFT normalizada por N\n",
    "fft_xn_m_1_w_bh=np.fft.fft(xn_m_1_w_bh,axis=0)/N \n",
    "fft_xn_m_1_w_hamming=np.fft.fft(xn_m_1_w_hamming,axis=0)/N \n",
    "fft_xn_m_1_w_flattop=np.fft.fft(xn_m_1_w_flattop,axis=0)/N \n",
    "fft_xn_m_1_w_rectangular=np.fft.fft(xn_m_1_w_rectangular,axis=0)/N \n",
    "\n",
    "fft_xn_m_2_w_bh=np.fft.fft(xn_m_2_w_bh,axis=0)/N \n",
    "fft_xn_m_2_w_hamming=np.fft.fft(xn_m_2_w_hamming,axis=0)/N \n",
    "fft_xn_m_2_w_flattop=np.fft.fft(xn_m_2_w_flattop,axis=0)/N \n",
    "fft_xn_m_2_w_rectangular=np.fft.fft(xn_m_2_w_rectangular,axis=0)/N \n",
    "\n",
    "# Módulo y fase de FFT\n",
    "fft_xn_m_1_w_bh_abs,fft_xn_m_1_w_bh_abs_ph=mod_y_fase_fft(fft_xn_m_1_w_bh)\n",
    "fft_xn_m_1_w_hamming_abs,fft_xn_m_1_w_hamming_abs_ph=mod_y_fase_fft(fft_xn_m_1_w_hamming)\n",
    "fft_xn_m_1_w_flattop_abs,fft_xn_m_1_w_flattop_abs_ph=mod_y_fase_fft(fft_xn_m_1_w_flattop)\n",
    "fft_xn_m_1_w_rectangular_abs,fft_xn_m_1_w_rectangular_abs_ph=mod_y_fase_fft(fft_xn_m_1_w_rectangular)\n",
    "\n",
    "fft_xn_m_2_w_bh_abs,fft_xn_m_2_w_bh_abs_ph=mod_y_fase_fft(fft_xn_m_2_w_bh)\n",
    "fft_xn_m_2_w_hamming_abs,fft_xn_m_2_w_hamming_abs_ph=mod_y_fase_fft(fft_xn_m_2_w_hamming)\n",
    "fft_xn_m_2_w_flattop_abs,fft_xn_m_2_w_flattop_abs_ph=mod_y_fase_fft(fft_xn_m_2_w_flattop)\n",
    "fft_xn_m_2_w_rectangular_abs,fft_xn_m_2_w_rectangular_abs_ph=mod_y_fase_fft(fft_xn_m_2_w_rectangular)\n",
    "\n",
    "# Estimadores de amplitud y frecuencia para c/ventana\n",
    "f_estimado_1_xn_1_w_bh,a_estimado_1_xn_1_w_bh=estimadores(fft_xn_m_1_w_bh_abs,df=df,ff=fs/4,N=N)\n",
    "f_estimado_1_xn_1_w_hamming,a_estimado_1_xn_1_w_hamming=estimadores(fft_xn_m_1_w_hamming_abs,df=df,ff=fs/4,N=N)\n",
    "f_estimado_1_xn_1_w_flattop,a_estimado_1_xn_1_w_flattop=estimadores(fft_xn_m_1_w_flattop_abs,df=df,ff=fs/4,N=N)\n",
    "f_estimado_1_xn_1_w_rectangular,a_estimado_1_xn_1_w_rectangular=estimadores(fft_xn_m_1_w_rectangular_abs,df=df,ff=fs/4,N=N)\n",
    "\n",
    "f_estimado_1_xn_2_w_bh,a_estimado_1_xn_2_w_bh=estimadores(fft_xn_m_2_w_bh_abs,df=df,ff=fs/4,N=N)\n",
    "f_estimado_1_xn_2_w_hamming,a_estimado_1_xn_2_w_hamming=estimadores(fft_xn_m_2_w_hamming_abs,df=df,ff=fs/4,N=N)\n",
    "f_estimado_1_xn_2_w_flattop,a_estimado_1_xn_2_w_flattop=estimadores(fft_xn_m_2_w_flattop_abs,df=df,ff=fs/4,N=N)\n",
    "f_estimado_1_xn_2_w_rectangular,a_estimado_1_xn_2_w_rectangular=estimadores(fft_xn_m_2_w_rectangular_abs,df=df,ff=fs/4,N=N)"
   ]
  },
  {
   "cell_type": "code",
   "execution_count": 3,
   "id": "61607e41-1459-41e5-bdd8-de225276f745",
   "metadata": {},
   "outputs": [
    {
     "name": "stdout",
     "output_type": "stream",
     "text": [
      "Ventana Blackman-Harris:\n",
      " Amplitud -> sesgo=-1.840, var=4.691e-03\n",
      " Frecuencia -> sesgo=0.140, var=1.670e+00\n",
      "\n",
      "Ventana Hamming:\n",
      " Amplitud -> sesgo=-1.833, var=1.836e-02\n",
      " Frecuencia -> sesgo=0.135, var=1.667e+00\n",
      "\n",
      "Ventana Flattop:\n",
      " Amplitud -> sesgo=-1.862, var=3.150e-04\n",
      " Frecuencia -> sesgo=0.070, var=1.555e+00\n",
      "\n",
      "Ventana Rectangular:\n",
      " Amplitud -> sesgo=-1.747, var=4.814e-02\n",
      " Frecuencia -> sesgo=0.140, var=1.670e+00\n"
     ]
    }
   ],
   "source": [
    "# Presentación de los resultados del punto 1 para SNR=3\n",
    "sesgo_a_bh,var_a_bh=estadisticas(a_real, a_estimado_1_xn_1_w_bh)\n",
    "sesgo_f_bh,var_f_bh=estadisticas(f_real, f_estimado_1_xn_1_w_bh)\n",
    "\n",
    "print(\"Ventana Blackman-Harris:\")\n",
    "print(f\" Amplitud -> sesgo={sesgo_a_bh:.3f}, var={var_a_bh:.3e}\")\n",
    "print(f\" Frecuencia -> sesgo={sesgo_f_bh:.3f}, var={var_f_bh:.3e}\\n\")\n",
    "\n",
    "sesgo_a_hamming,var_a_hamming=estadisticas(a_real, a_estimado_1_xn_1_w_hamming)\n",
    "sesgo_f_hamming,var_f_hamming=estadisticas(f_real, f_estimado_1_xn_1_w_hamming)\n",
    "\n",
    "print(\"Ventana Hamming:\")\n",
    "print(f\" Amplitud -> sesgo={sesgo_a_hamming:.3f}, var={var_a_hamming:.3e}\")\n",
    "print(f\" Frecuencia -> sesgo={sesgo_f_hamming:.3f}, var={var_f_hamming:.3e}\\n\")\n",
    "\n",
    "sesgo_a_flattop,var_a_flattop=estadisticas(a_real, a_estimado_1_xn_1_w_flattop)\n",
    "sesgo_f_flattop,var_f_flattop=estadisticas(f_real, f_estimado_1_xn_1_w_flattop)\n",
    "\n",
    "print(\"Ventana Flattop:\")\n",
    "print(f\" Amplitud -> sesgo={sesgo_a_flattop:.3f}, var={var_a_flattop:.3e}\")\n",
    "print(f\" Frecuencia -> sesgo={sesgo_f_flattop:.3f}, var={var_f_flattop:.3e}\\n\")\n",
    "\n",
    "sesgo_a_rectangular,var_a_rectangular=estadisticas(a_real, a_estimado_1_xn_1_w_rectangular)\n",
    "sesgo_f_rectangular,var_f_rectangular=estadisticas(f_real, f_estimado_1_xn_1_w_rectangular)\n",
    "\n",
    "print(\"Ventana Rectangular:\")\n",
    "print(f\" Amplitud -> sesgo={sesgo_a_rectangular:.3f}, var={var_a_rectangular:.3e}\")\n",
    "print(f\" Frecuencia -> sesgo={sesgo_f_rectangular:.3f}, var={var_f_rectangular:.3e}\")"
   ]
  },
  {
   "cell_type": "markdown",
   "id": "05ccd60b-6666-45b4-9f61-6d0963168fd3",
   "metadata": {},
   "source": [
    "- Amplitud:\n",
    "\n",
    "  Por un lado, la varianza de la Flattop es la de menor magnitud y, simultaneamente, presenta el mayor sesgo. Esto se debe a que al posee el mayor lóbulo central en contraposición a las demás ventanas, este contiene más energía en su ancho de banda y el desparramo espectral es redducido.\n",
    "  Por otro lado, la ventana rectangular exhibe la mayor varianza debido a que su distribución no es de carácter normal, sino uniforme, y tiene el menor lóbulo central pero los secundarios son los más amplios, por ende, mejora la resolución espectral e incrementa el desparramo de energía.\n",
    "  Cabe destacar que todas las ventanas tienen sesgo negativo, por lo tanto, subestiman la amplitud verdadera de valor 2.\n",
    "\n",
    "- Frecuencia:\n",
    "\n",
    "  En este caso, todas las ventanas poseen sesgo positivo, es decir, sobrestiman el verdadero valor de frecuencia ubicado en fs/4.\n",
    "  También, el estimador para la Flattop evidencia el menor sesgo y varianza, lo cual lo destaca frente a los demás correspondientes a otras ventanas.\n",
    "  Paralelamente, la ventana rectangular y de Blackman-Harris exponen valores idénticos.\n",
    "  "
   ]
  },
  {
   "cell_type": "code",
   "execution_count": 4,
   "id": "50b8673f-c287-49b9-ab5e-0a6c585da811",
   "metadata": {},
   "outputs": [
    {
     "name": "stdout",
     "output_type": "stream",
     "text": [
      "Ventana Blackman-Harris:\n",
      " Amplitud -> sesgo=-1.840, var=4.589e-03\n",
      " Frecuencia -> sesgo=0.125, var=1.679e+00\n",
      "\n",
      "Ventana Hamming:\n",
      " Amplitud -> sesgo=-1.834, var=1.844e-02\n",
      " Frecuencia -> sesgo=0.125, var=1.649e+00\n",
      "\n",
      "Ventana Flattop:\n",
      " Amplitud -> sesgo=-1.862, var=2.711e-04\n",
      " Frecuencia -> sesgo=0.140, var=1.570e+00\n",
      "\n",
      "Ventana Rectangular:\n",
      " Amplitud -> sesgo=-1.748, var=4.842e-02\n",
      " Frecuencia -> sesgo=0.130, var=1.653e+00\n"
     ]
    }
   ],
   "source": [
    "# Presentación de los resultados del punto 1 para SNR=10\n",
    "sesgo_a_bh_2,var_a_bh_2=estadisticas(a_real, a_estimado_1_xn_2_w_bh)\n",
    "sesgo_f_bh_2,var_f_bh_2=estadisticas(f_real, f_estimado_1_xn_2_w_bh)\n",
    "\n",
    "print(\"Ventana Blackman-Harris:\")\n",
    "print(f\" Amplitud -> sesgo={sesgo_a_bh_2:.3f}, var={var_a_bh_2:.3e}\")\n",
    "print(f\" Frecuencia -> sesgo={sesgo_f_bh_2:.3f}, var={var_f_bh_2:.3e}\\n\")\n",
    "\n",
    "sesgo_a_hamming_2,var_a_hamming_2=estadisticas(a_real, a_estimado_1_xn_2_w_hamming)\n",
    "sesgo_f_hamming_2,var_f_hamming_2=estadisticas(f_real, f_estimado_1_xn_2_w_hamming)\n",
    "\n",
    "print(\"Ventana Hamming:\")\n",
    "print(f\" Amplitud -> sesgo={sesgo_a_hamming_2:.3f}, var={var_a_hamming_2:.3e}\")\n",
    "print(f\" Frecuencia -> sesgo={sesgo_f_hamming_2:.3f}, var={var_f_hamming_2:.3e}\\n\")\n",
    "\n",
    "sesgo_a_flattop_2,var_a_flattop_2=estadisticas(a_real, a_estimado_1_xn_2_w_flattop)\n",
    "sesgo_f_flattop_2,var_f_flattop_2=estadisticas(f_real, f_estimado_1_xn_2_w_flattop)\n",
    "\n",
    "print(\"Ventana Flattop:\")\n",
    "print(f\" Amplitud -> sesgo={sesgo_a_flattop_2:.3f}, var={var_a_flattop_2:.3e}\")\n",
    "print(f\" Frecuencia -> sesgo={sesgo_f_flattop_2:.3f}, var={var_f_flattop_2:.3e}\\n\")\n",
    "\n",
    "sesgo_a_rectangular_2,var_a_rectangular_2=estadisticas(a_real, a_estimado_1_xn_2_w_rectangular)\n",
    "sesgo_f_rectangular_2,var_f_rectangular_2=estadisticas(f_real, f_estimado_1_xn_2_w_rectangular)\n",
    "\n",
    "print(\"Ventana Rectangular:\")\n",
    "print(f\" Amplitud -> sesgo={sesgo_a_rectangular_2:.3f}, var={var_a_rectangular_2:.3e}\")\n",
    "print(f\" Frecuencia -> sesgo={sesgo_f_rectangular_2:.3f}, var={var_f_rectangular_2:.3e}\")"
   ]
  },
  {
   "cell_type": "markdown",
   "id": "bdbd44d0-a6af-42e2-a9c5-1e75676e5959",
   "metadata": {},
   "source": [
    "- Amplitud:\n",
    "\n",
    "  Se debe hacer hincapié en que prevalece la subestimación del valor verdadero a través de los sesgos negativos analogos a los obtenidos para SNR=3. A su vez, la varianza disminuye levemente para todas las ventanas.\n",
    "  Nuevamente, la Flattop presenta la menor varianza y mayor sesgo en módulo, y, por el contrario, el estimador derivado de la ventana rectangular invierte tales relaciones respecto al sesgo y la varianza.\n",
    "\n",
    "- Frecuencia:\n",
    "\n",
    "  El estimador derivado de la ventana Hamming posee el menor sesgo y una varianza reducida y análoga a la perteneciente al estimador de la Flattop, que posee el mayor de los sesgos.\n",
    "\n",
    "  En general, a diferencia de los resultados de las estadísticas de frecuencia para SNR=3, el sesgo se reduce mínimamente y la varianza mejora para la ventana rectangular y de Hamming."
   ]
  },
  {
   "cell_type": "markdown",
   "id": "600198fc-f9dd-49a5-ac9b-d7aa95d8e246",
   "metadata": {},
   "source": [
    "2) "
   ]
  },
  {
   "cell_type": "code",
   "execution_count": 5,
   "id": "9987e099-b5f9-46ea-900a-55d1a4ba46ca",
   "metadata": {},
   "outputs": [],
   "source": [
    "#%% Invocación de las funciones del punto 2 para SNR=3\n",
    "# FFT normalizada por N\n",
    "fft_xn_m_1_w_bh_zp=np.fft.fft(xn_m_1_w_bh,M,axis=0)/N \n",
    "fft_xn_m_1_w_hamming_zp=np.fft.fft(xn_m_1_w_hamming,M,axis=0)/N \n",
    "fft_xn_m_1_w_flattop_zp=np.fft.fft(xn_m_1_w_flattop,M,axis=0)/N \n",
    "fft_xn_m_1_w_rectangular_zp=np.fft.fft(xn_m_1_w_rectangular,M,axis=0)/N \n",
    "\n",
    "# Módulo y fase de FFT\n",
    "fft_xn_m_1_w_bh_abs_zp,fft_xn_m_1_w_bh_abs_ph_zp=mod_y_fase_fft(fft_xn_m_1_w_bh_zp)\n",
    "fft_xn_m_1_w_hamming_abs_zp,fft_xn_m_1_w_hamming_abs_ph_zp=mod_y_fase_fft(fft_xn_m_1_w_hamming_zp)\n",
    "fft_xn_m_1_w_flattop_abs_zp,fft_xn_m_1_w_flattop_abs_ph_zp=mod_y_fase_fft(fft_xn_m_1_w_flattop_zp)\n",
    "fft_xn_m_1_w_rectangular_abs_zp,fft_xn_m_1_w_rectangular_abs_ph_zp=mod_y_fase_fft(fft_xn_m_1_w_rectangular_zp)\n",
    "\n",
    "# Estimadores de amplitud y frecuencia para c/ventana\n",
    "f_estimado_1_xn_1_w_bh_zp,_=estimadores(fft_xn_m_1_w_bh_abs_zp,df=df_M,ff=fs/4,N=M)\n",
    "f_estimado_1_xn_1_w_hamming_zp,_=estimadores(fft_xn_m_1_w_hamming_abs_zp,df=df_M,ff=fs/4,N=M)\n",
    "f_estimado_1_xn_1_w_flattop_zp,_=estimadores(fft_xn_m_1_w_flattop_abs_zp,df=df_M,ff=fs/4,N=M)\n",
    "f_estimado_1_xn_1_w_rectangular_zp,_=estimadores(fft_xn_m_1_w_rectangular_abs_zp,df=df_M,ff=fs/4,N=M)"
   ]
  },
  {
   "cell_type": "code",
   "execution_count": 6,
   "id": "07b5a274-4772-459a-b13b-df1d8b38d11f",
   "metadata": {},
   "outputs": [
    {
     "name": "stdout",
     "output_type": "stream",
     "text": [
      "Ventana Blackman-Harris con Zero Padding:\n",
      " Frecuencia -> sesgo=0.116, var=1.436e+00\n",
      "\n",
      "Ventana Hamming con Zero Padding:\n",
      " Frecuencia -> sesgo=0.114, var=1.431e+00\n",
      "\n",
      "Ventana Flattop con Zero Padding:\n",
      " Frecuencia -> sesgo=0.098, var=1.649e+00\n",
      "\n",
      "Ventana Rectangular con Zero Padding:\n",
      " Frecuencia -> sesgo=0.115, var=1.426e+00\n"
     ]
    }
   ],
   "source": [
    "# Presentación de los resultados del punto 2 para SNR=3\n",
    "sesgo_f_bh_zp,var_f_bh_zp=estadisticas(f_real, f_estimado_1_xn_1_w_bh_zp)\n",
    "\n",
    "print(\"Ventana Blackman-Harris con Zero Padding:\")\n",
    "print(f\" Frecuencia -> sesgo={sesgo_f_bh_zp:.3f}, var={var_f_bh_zp:.3e}\\n\")\n",
    "\n",
    "sesgo_f_hamming_zp,var_f_hamming_zp=estadisticas(f_real, f_estimado_1_xn_1_w_hamming_zp)\n",
    "\n",
    "print(\"Ventana Hamming con Zero Padding:\")\n",
    "print(f\" Frecuencia -> sesgo={sesgo_f_hamming_zp:.3f}, var={var_f_hamming_zp:.3e}\\n\")\n",
    "\n",
    "sesgo_f_flattop_zp,var_f_flattop_zp=estadisticas(f_real, f_estimado_1_xn_1_w_flattop_zp)\n",
    "\n",
    "print(\"Ventana Flattop con Zero Padding:\")\n",
    "print(f\" Frecuencia -> sesgo={sesgo_f_flattop_zp:.3f}, var={var_f_flattop_zp:.3e}\\n\")\n",
    "\n",
    "sesgo_f_rectangular_zp,var_f_rectangular_zp=estadisticas(f_real, f_estimado_1_xn_1_w_rectangular_zp)\n",
    "\n",
    "print(\"Ventana Rectangular con Zero Padding:\")\n",
    "print(f\" Frecuencia -> sesgo={sesgo_f_rectangular_zp:.3f}, var={var_f_rectangular_zp:.3e}\")"
   ]
  },
  {
   "cell_type": "markdown",
   "id": "9f866b5d-375d-450f-bcac-5de4d928dce3",
   "metadata": {},
   "source": [
    "- Frecuencia con Zero Padding:\n",
    "\n",
    "  Se constata una disminución de la varianza y el sesgo en la mayoría de las ventanas excepto en la Flattop donde ambas medidas aumentan ya que esta aplica fundamentalmente a estimación de amplitud.\n",
    "  En efecto, la técnica de zero padding al mejorar la resolución espectral artificialmente permite una estimación más precisa al reducirse la dispersión.\n",
    "  Concretamente, el estimador obtenido de aplicar la ventana rectangular comprende la menor varianza, lo cual le brinda las características más idóneas."
   ]
  },
  {
   "cell_type": "markdown",
   "id": "d92acf1e-0594-4347-8354-40d9fc2a53ee",
   "metadata": {},
   "source": [
    "3) "
   ]
  },
  {
   "cell_type": "code",
   "execution_count": 7,
   "id": "0239cdd6-fa0b-4d05-8162-c972ceb1d2ca",
   "metadata": {},
   "outputs": [
    {
     "name": "stdout",
     "output_type": "stream",
     "text": [
      "Ventana Blackman-Harris:\n",
      " Amplitud -> sesgo=-1.842, MAD**2=1.015e-02\n",
      " Frecuencia -> sesgo=0.000, MAD**2=2.198e+00\n",
      "\n",
      "Ventana Hamming:\n",
      " Amplitud -> sesgo=-1.870, MAD**2=2.858e-02\n",
      " Frecuencia -> sesgo=0.000, MAD**2=2.198e+00\n",
      "\n",
      "Ventana Flattop:\n",
      " Amplitud -> sesgo=-1.857, MAD**2=2.783e-04\n",
      " Frecuencia -> sesgo=0.000, MAD**2=2.198e+00\n",
      "\n",
      "Ventana Rectangular:\n",
      " Amplitud -> sesgo=-1.855, MAD**2=1.569e-02\n",
      " Frecuencia -> sesgo=0.000, MAD**2=2.198e+00\n",
      "\n"
     ]
    }
   ],
   "source": [
    "#%% Presentación de los resultados del punto 3 para SNR=3\n",
    "sesgo_robusto_a_bh,var_robusta_a_bh=estadisticas_robustas(a_real, a_estimado_1_xn_1_w_bh)\n",
    "sesgo_robusto_f_bh,var_robusta_f_bh=estadisticas_robustas(f_real, f_estimado_1_xn_1_w_bh)\n",
    "\n",
    "print(\"Ventana Blackman-Harris:\")\n",
    "print(f\" Amplitud -> sesgo={sesgo_robusto_a_bh:.3f}, MAD**2={var_robusta_a_bh:.3e}\")\n",
    "print(f\" Frecuencia -> sesgo={sesgo_robusto_f_bh:.3f}, MAD**2={var_robusta_f_bh:.3e}\\n\")\n",
    "\n",
    "sesgo_robusto_a_hamming,var_robusta_a_hamming=estadisticas_robustas(a_real, a_estimado_1_xn_1_w_hamming)\n",
    "sesgo_robusto_f_hamming,var_robusta_f_hamming=estadisticas_robustas(f_real, f_estimado_1_xn_1_w_hamming)\n",
    "\n",
    "print(\"Ventana Hamming:\")\n",
    "print(f\" Amplitud -> sesgo={sesgo_robusto_a_hamming:.3f}, MAD**2={var_robusta_a_hamming:.3e}\")\n",
    "print(f\" Frecuencia -> sesgo={sesgo_robusto_f_hamming:.3f}, MAD**2={var_robusta_f_hamming:.3e}\\n\")\n",
    "\n",
    "sesgo_robusto_a_flattop,var_robusta_a_flattop=estadisticas_robustas(a_real, a_estimado_1_xn_1_w_flattop)\n",
    "sesgo_robusto_f_flattop,var_robusta_f_flattop=estadisticas_robustas(f_real, f_estimado_1_xn_1_w_flattop)\n",
    "\n",
    "print(\"Ventana Flattop:\")\n",
    "print(f\" Amplitud -> sesgo={sesgo_robusto_a_flattop:.3f}, MAD**2={var_robusta_a_flattop:.3e}\")\n",
    "print(f\" Frecuencia -> sesgo={sesgo_robusto_f_flattop:.3f}, MAD**2={var_robusta_f_flattop:.3e}\\n\")\n",
    "\n",
    "sesgo_robusto_a_rectangular,var_robusta_a_rectangular=estadisticas_robustas(a_real, a_estimado_1_xn_1_w_rectangular)\n",
    "sesgo_robusto_f_rectangular,var_robusta_f_rectangular=estadisticas_robustas(f_real, f_estimado_1_xn_1_w_rectangular)\n",
    "\n",
    "print(\"Ventana Rectangular:\")\n",
    "print(f\" Amplitud -> sesgo={sesgo_robusto_a_rectangular:.3f}, MAD**2={var_robusta_a_rectangular:.3e}\")\n",
    "print(f\" Frecuencia -> sesgo={sesgo_robusto_f_rectangular:.3f}, MAD**2={var_robusta_f_rectangular:.3e}\\n\")\n"
   ]
  },
  {
   "cell_type": "markdown",
   "id": "7ec27cf4-bc67-457a-a925-2aa4fd693427",
   "metadata": {},
   "source": [
    "- "
   ]
  },
  {
   "cell_type": "markdown",
   "id": "2d1ba6aa-dc1f-4fe4-a6d8-c8f24280183e",
   "metadata": {},
   "source": [
    "4) "
   ]
  },
  {
   "cell_type": "code",
   "execution_count": 8,
   "id": "531c11c7-05c9-4201-87c1-038a90ab9b44",
   "metadata": {},
   "outputs": [
    {
     "data": {
      "image/png": "[encoded data removed]",
      "text/plain": [
       "<Figure size 640x480 with 1 Axes>"
      ]
     },
     "metadata": {},
     "output_type": "display_data"
    }
   ],
   "source": [
    "#%% Presentación gráfica de los resultados del punto 4 para SNR=3\n",
    "plt.figure()\n",
    "plt.hist(a_estimado_1_xn_1_w_bh-sesgo_a_bh, bins, alpha=0.5, label='Blackman-Harris')\n",
    "plt.hist(a_estimado_1_xn_1_w_flattop-sesgo_a_hamming, bins, alpha=0.5, label='Flattop')\n",
    "plt.hist(a_estimado_1_xn_1_w_rectangular-sesgo_a_rectangular, bins, alpha=0.5, label='Rectangular')\n",
    "plt.axvline(np.mean(a_real), color='m', linestyle='--', label='Amplitud verdadera') # Línea vertical indicando valor verdadero de amplitud\n",
    "plt.title(\"Histogramas de estimador de amplitud insesgados\")\n",
    "plt.xlabel(\"Amplitud estimada\")\n",
    "plt.ylabel(\"Realizaciones\")\n",
    "plt.legend()\n",
    "plt.grid()\n",
    "plt.show()"
   ]
  },
  {
   "cell_type": "markdown",
   "id": "5afdd486-0238-476d-a1f6-439d134bf1ca",
   "metadata": {},
   "source": [
    "- "
   ]
  },
  {
   "cell_type": "code",
   "execution_count": 9,
   "id": "eaf411af-7ee3-4d16-91ae-503621794ab4",
   "metadata": {},
   "outputs": [
    {
     "data": {
      "image/png": "[encoded data removed]",
      "text/plain": [
       "<Figure size 640x480 with 1 Axes>"
      ]
     },
     "metadata": {},
     "output_type": "display_data"
    }
   ],
   "source": [
    "plt.figure()\n",
    "plt.hist(f_estimado_1_xn_1_w_bh-sesgo_f_bh, bins, alpha=0.5, label='Blackman-Harris')\n",
    "plt.hist(f_estimado_1_xn_1_w_flattop-sesgo_f_flattop, bins, alpha=0.5, label='Flattop')\n",
    "plt.hist(f_estimado_1_xn_1_w_rectangular-sesgo_f_rectangular, bins, alpha=0.5, label='Rectangular')\n",
    "plt.axvline(np.mean(f_real), color='m', linestyle='--', label='Frecuencia verdadera') # Línea vertical indicando valor verdadero de frecuencia promedio\n",
    "plt.title(\"Histogramas de estimador de frecuencia insesgados\")\n",
    "plt.xlabel(\"Frecuencia estimada [Hz]\")\n",
    "plt.ylabel(\"Realizaciones\")\n",
    "plt.ylim([0,75])\n",
    "plt.legend()\n",
    "plt.grid()\n",
    "plt.show()"
   ]
  },
  {
   "cell_type": "markdown",
   "id": "3fe80d1b-bf1e-4244-ab19-3fdce7f46933",
   "metadata": {},
   "source": [
    "- "
   ]
  },
  {
   "cell_type": "code",
   "execution_count": 10,
   "id": "771f6ace-6d58-49d3-9c26-b151a3effc71",
   "metadata": {},
   "outputs": [
    {
     "data": {
      "image/png": "[encoded data removed]",
      "text/plain": [
       "<Figure size 640x480 with 1 Axes>"
      ]
     },
     "metadata": {},
     "output_type": "display_data"
    }
   ],
   "source": [
    "plt.figure()\n",
    "plt.hist(f_estimado_1_xn_1_w_bh_zp-sesgo_f_bh_zp, bins, alpha=0.5, label='Blackman-Harris')\n",
    "plt.hist(f_estimado_1_xn_1_w_flattop_zp-sesgo_f_flattop_zp, bins, alpha=0.5, label='Flattop')\n",
    "plt.hist(f_estimado_1_xn_1_w_rectangular_zp-sesgo_f_rectangular_zp, bins, alpha=0.5, label='Rectangular')\n",
    "plt.axvline(np.mean(f_real), color='m', linestyle='--', label='Frecuencia verdadera') # Línea vertical indicando valor verdadero de frecuencia promedio\n",
    "plt.title(\"Histogramas de estimador de frecuencia insesgados con Zero Padding\")\n",
    "plt.xlabel(\"Frecuencia estimada [Hz]\")\n",
    "plt.ylabel(\"Realizaciones\")\n",
    "plt.legend()\n",
    "plt.grid()\n",
    "plt.show()"
   ]
  },
  {
   "cell_type": "markdown",
   "id": "58fe6f0c-748b-483b-9407-2de35dd91933",
   "metadata": {},
   "source": [
    "- "
   ]
  },
  {
   "cell_type": "markdown",
   "id": "96d16f21-f616-4375-b117-2c1c4a45f5ca",
   "metadata": {},
   "source": [
    "# Conclusiones\n",
    "\n",
    "\n"
   ]
  },
  {
   "cell_type": "markdown",
   "id": "c424e233-d718-4548-a77c-b12bf2eb10b9",
   "metadata": {},
   "source": [
    "# Autoevaluación\n",
    "A) Sí, resolvimos la tarea con seguridad.\n",
    "\n",
    "B) Lo aprendido en esta tarea fue +++\n",
    "\n",
    "C) No fue usada."
   ]
  }
 ],
 "metadata": {
  "kernelspec": {
   "display_name": "Python 3 (ipykernel)",
   "language": "python",
   "name": "python3"
  },
  "language_info": {
   "codemirror_mode": {
    "name": "ipython",
    "version": 3
   },
   "file_extension": ".py",
   "mimetype": "text/x-python",
   "name": "python",
   "nbconvert_exporter": "python",
   "pygments_lexer": "ipython3",
   "version": "3.12.2"
  }
 },
 "nbformat": 4,
 "nbformat_minor": 5
}
